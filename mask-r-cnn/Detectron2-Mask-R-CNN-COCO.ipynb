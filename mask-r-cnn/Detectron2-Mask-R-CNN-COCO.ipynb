{
 "cells": [
  {
   "cell_type": "markdown",
   "metadata": {},
   "source": [
    "## Mask R-CNN (COCO instance segmentation)\n",
    "\n",
    "Config: **COCO-InstanceSegmentation/mask_rcnn_X_101_32x8d_FPN_3x.yaml**"
   ]
  },
  {
   "cell_type": "code",
   "execution_count": 1,
   "metadata": {},
   "outputs": [
    {
     "name": "stdout",
     "output_type": "stream",
     "text": [
      "torch:  2.0 ; cuda:  cu117\n",
      "detectron2: 0.6\n"
     ]
    }
   ],
   "source": [
    "# CUDA and Torch setup\n",
    "import torch, detectron2\n",
    "TORCH_VERSION = \".\".join(torch.__version__.split(\".\")[:2])\n",
    "CUDA_VERSION = torch.__version__.split(\"+\")[-1]\n",
    "print(\"torch: \", TORCH_VERSION, \"; cuda: \", CUDA_VERSION)\n",
    "print(\"detectron2:\", detectron2.__version__)\n",
    "from GPUtil import showUtilization as gpu_usage\n",
    "\n",
    "# Setup detectron2 logger\n",
    "import detectron2\n",
    "from detectron2.utils.logger import setup_logger\n",
    "setup_logger()\n",
    "\n",
    "# Import common libraries\n",
    "import numpy as np\n",
    "import os, datetime, cv2\n",
    "from matplotlib import pyplot as plt\n",
    "\n",
    "# Import common detectron2 utilities\n",
    "from detectron2 import model_zoo\n",
    "from detectron2.engine import DefaultPredictor\n",
    "from detectron2.engine import DefaultTrainer\n",
    "from detectron2.config import get_cfg\n",
    "from detectron2.utils.visualizer import Visualizer\n",
    "from detectron2.data import MetadataCatalog\n",
    "from detectron2.data import build_detection_test_loader\n",
    "from detectron2.evaluation import COCOEvaluator, inference_on_dataset\n",
    "\n",
    "# Custom Dataset\n",
    "from detectron2.data.datasets import register_coco_instances"
   ]
  },
  {
   "cell_type": "code",
   "execution_count": null,
   "metadata": {},
   "outputs": [],
   "source": [
    "root_dir = '../../data/unzipped/facade-original-coco-segmentation/'\n",
    "\n",
    "# Register train, valid, and test datasets\n",
    "register_coco_instances(\"building_train_coco\", {}, root_dir + \"train/_annotations.coco.json\", root_dir + \"train\")\n",
    "register_coco_instances(\"building_valid_coco\", {}, root_dir + \"valid/_annotations.coco.json\", root_dir + \"valid\")\n",
    "register_coco_instances(\"building_test_coco\", {}, root_dir + \"test/_annotations.coco.json\", root_dir + \"test\")"
   ]
  },
  {
   "cell_type": "code",
   "execution_count": null,
   "metadata": {},
   "outputs": [],
   "source": [
    "def create_run_directory(parent_directory='./maskrcnn_coco/'):\n",
    "    \n",
    "    # Extract run numbers and find the highest one\n",
    "    existing_dirs = [d for d in os.listdir(parent_directory) if os.path.isdir(os.path.join(parent_directory, d))]\n",
    "    run_numbers = [int(d.split('_')[1]) for d in existing_dirs if d.startswith(\"Run_\") and d.split('_')[1].isdigit()]\n",
    "    next_run_number = max(run_numbers, default=-1) + 1\n",
    "\n",
    "    # Generate new run ID and folder\n",
    "    current_datetime = datetime.datetime.now().strftime('%d_%m_%y_%H_%M')\n",
    "    run_id = f\"Run_{next_run_number}_{current_datetime}\"\n",
    "    new_run_path = os.path.join(parent_directory, run_id)\n",
    "    os.makedirs(new_run_path)\n",
    "    \n",
    "    return new_run_path"
   ]
  },
  {
   "cell_type": "code",
   "execution_count": null,
   "metadata": {},
   "outputs": [],
   "source": [
    "print(\"Initial GPU Usage\")\n",
    "gpu_usage()\n",
    "\n",
    "print(\"GPU Usage after emptying the cache\")\n",
    "torch.cuda.empty_cache()\n",
    "gpu_usage()"
   ]
  },
  {
   "cell_type": "code",
   "execution_count": null,
   "metadata": {},
   "outputs": [],
   "source": [
    "# Configure Pre-trained Model\n",
    "runDir = create_run_directory()\n",
    "\n",
    "cfg = get_cfg()\n",
    "cfg.MODEL.DEVICE = \"cuda:3\" # Set GPU\n",
    "cfg.OUTPUT_DIR = runDir\n",
    "cfg.merge_from_file(model_zoo.get_config_file(\"COCO-InstanceSegmentation/mask_rcnn_X_101_32x8d_FPN_3x.yaml\"))\n",
    "cfg.DATASETS.TRAIN = (\"building_train_coco\",)\n",
    "cfg.DATASETS.TEST = (\"building_valid_coco\",)\n",
    "cfg.TEST.EVAL_PERIOD = 100 # do evaluation once after 100 iterations on the cfg.DATASETS.TEST (Validation set)\n",
    "cfg.DATALOADER.NUM_WORKERS = 8\n",
    "cfg.MODEL.WEIGHTS = model_zoo.get_checkpoint_url(\"COCO-InstanceSegmentation/mask_rcnn_X_101_32x8d_FPN_3x.yaml\")\n",
    "cfg.SOLVER.IMS_PER_BATCH = 4\n",
    "cfg.SOLVER.BASE_LR = 0.0025\n",
    "cfg.SOLVER.MAX_ITER = 1000    \n",
    "cfg.SOLVER.STEPS = [] # learning rate decay\n",
    "cfg.MODEL.ROI_HEADS.BATCH_SIZE_PER_IMAGE = 256\n",
    "cfg.MODEL.ROI_HEADS.NUM_CLASSES = 11  # Number of classes + background\n",
    "\n",
    "# Custom trainer class with evaluator\n",
    "from detectron2.engine import DefaultTrainer\n",
    "from detectron2.evaluation import COCOEvaluator\n",
    "\n",
    "class CocoTrainer(DefaultTrainer):\n",
    "    @classmethod\n",
    "    def build_evaluator(cls, cfg, dataset_name, output_folder=None):\n",
    "        if output_folder is None:\n",
    "            os.makedirs(f\"{cfg.OUTPUT_DIR}/eval/\", exist_ok=True)\n",
    "            output_folder = f\"{cfg.OUTPUT_DIR}/eval/\"\n",
    "        return COCOEvaluator(dataset_name, cfg, False, output_folder)\n",
    "    \n"
   ]
  },
  {
   "cell_type": "code",
   "execution_count": null,
   "metadata": {},
   "outputs": [],
   "source": [
    "# Train Model\n",
    "os.makedirs(cfg.OUTPUT_DIR, exist_ok=True)\n",
    "trainer = CocoTrainer(cfg)\n",
    "trainer.resume_or_load(resume=False)\n",
    "trainer.train()"
   ]
  },
  {
   "cell_type": "code",
   "execution_count": null,
   "metadata": {},
   "outputs": [],
   "source": [
    "# Evaluate and Use Model\n",
    "cfg.MODEL.WEIGHTS = os.path.join('/home/ubuntu/code/mt-facade-seg-mask-r-cnn/maskrcnn_coco/Run_1_20_08_23_12_09', \"model_final.pth\")\n",
    "cfg.MODEL.ROI_HEADS.SCORE_THRESH_TEST = 0.5\n",
    "predictor = DefaultPredictor(cfg)"
   ]
  },
  {
   "cell_type": "code",
   "execution_count": null,
   "metadata": {},
   "outputs": [],
   "source": [
    "# Call COCO Evaluator function and pass the Test Dataset\n",
    "evaluator = COCOEvaluator(\"building_test_coco\", cfg, False, output_dir=f\"{cfg.OUTPUT_DIR}/test/\")\n",
    "val_loader = build_detection_test_loader(cfg, \"building_test_coco\")\n",
    "\n",
    "inference_on_dataset(predictor.model, val_loader, evaluator)"
   ]
  },
  {
   "cell_type": "code",
   "execution_count": null,
   "metadata": {},
   "outputs": [],
   "source": [
    "# Read and predict an image\n",
    "image = cv2.imread('/home/ubuntu/data/unzipped/facade-original-coco-segmentation/valid/IMG_5868_scaled_0_png_jpg.rf.1df4f5078028640ec94e983240d9521a.jpg')\n",
    "outputs = predictor(image)\n",
    "\n",
    "# Visualize the results\n",
    "v = Visualizer(image[:, :, ::-1], MetadataCatalog.get(cfg.DATASETS.TRAIN[0]), scale=1)\n",
    "out = v.draw_instance_predictions(outputs[\"instances\"].to(\"cpu\"))\n",
    "plt.figure(figsize=(10,10))\n",
    "plt.imshow(out.get_image()[:, :, ::-1])"
   ]
  },
  {
   "cell_type": "code",
   "execution_count": null,
   "metadata": {},
   "outputs": [],
   "source": [
    "# List of image paths\n",
    "image_paths = [\n",
    "    '/home/ubuntu/data/unzipped/facade-original-coco-segmentation/valid/IMG_5868_scaled_0_png_jpg.rf.1df4f5078028640ec94e983240d9521a.jpg',\n",
    "    '/home/ubuntu/data/unzipped/facade-original-coco-segmentation/valid/IMG_6044_scaled_0_png_jpg.rf.07fdb382874e1f14f00044f0f88f2989.jpg',\n",
    "    '/home/ubuntu/data/unzipped/facade-original-coco-segmentation/valid/IMG_6153_scaled_0_png_jpg.rf.5933f74b904a718082ba7968e02128c1.jpg',\n",
    "    '/home/ubuntu/data/unzipped/facade-original-coco-segmentation/valid/IMG_6002_scaled_0_png_jpg.rf.19cbe00a2856981e0bbac9dadd6bf3cc.jpg'\n",
    "]\n",
    "\n",
    "# Predict all images\n",
    "outputs_list = [predictor(cv2.imread(image_path)) for image_path in image_paths]\n",
    "\n",
    "plt.figure(figsize=(25,25))\n",
    "\n",
    "for i, (image_path, outputs) in enumerate(zip(image_paths, outputs_list)):\n",
    "    image = cv2.imread(image_path)\n",
    "    v = Visualizer(image[:, :, ::-1], MetadataCatalog.get(cfg.DATASETS.TRAIN[0]), scale=1)\n",
    "    out = v.draw_instance_predictions(outputs[\"instances\"].to(\"cpu\"))\n",
    "    \n",
    "    plt.subplot(2, 2, i+1)  # 2x2 grid for 4 images\n",
    "    plt.imshow(out.get_image()[:, :, ::-1])\n",
    "    plt.axis('off')  # hide axes for clarity\n",
    "\n",
    "plt.tight_layout()\n",
    "plt.show()"
   ]
  },
  {
   "cell_type": "code",
   "execution_count": null,
   "metadata": {},
   "outputs": [],
   "source": []
  }
 ],
 "metadata": {
  "kernelspec": {
   "display_name": "venv-detectron2",
   "language": "python",
   "name": "python3"
  },
  "language_info": {
   "codemirror_mode": {
    "name": "ipython",
    "version": 3
   },
   "file_extension": ".py",
   "mimetype": "text/x-python",
   "name": "python",
   "nbconvert_exporter": "python",
   "pygments_lexer": "ipython3",
   "version": "3.10.12"
  },
  "orig_nbformat": 4
 },
 "nbformat": 4,
 "nbformat_minor": 2
}
